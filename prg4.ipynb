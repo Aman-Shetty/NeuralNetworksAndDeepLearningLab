{
 "cells": [
  {
   "cell_type": "code",
   "execution_count": null,
   "id": "ef2fa8e2-b5d4-46dc-a92b-931873d7b483",
   "metadata": {},
   "outputs": [],
   "source": [
    "# Design and implement a CNN model with 4+ layers of convolution to classify multicategory image datasets. Use the concept of regularization and dropout while designing CNN model. Use the fashion MNIST dataset. Record the training accuracy and test accuracy corresponding to the following architecture: \n",
    "# Base model \n",
    "# Model with L1 regularization \n",
    "# Model with L2 regularization \n",
    "# Model with dropout "
   ]
  },
  {
   "cell_type": "code",
   "execution_count": null,
   "id": "b077acab-aa4d-41d0-95ff-a5844f10fd06",
   "metadata": {},
   "outputs": [
    {
     "name": "stderr",
     "output_type": "stream",
     "text": [
      "2024-12-07 15:57:29.451178: E external/local_xla/xla/stream_executor/cuda/cuda_fft.cc:485] Unable to register cuFFT factory: Attempting to register factory for plugin cuFFT when one has already been registered\n",
      "2024-12-07 15:57:29.518266: E external/local_xla/xla/stream_executor/cuda/cuda_dnn.cc:8454] Unable to register cuDNN factory: Attempting to register factory for plugin cuDNN when one has already been registered\n",
      "2024-12-07 15:57:29.537207: E external/local_xla/xla/stream_executor/cuda/cuda_blas.cc:1452] Unable to register cuBLAS factory: Attempting to register factory for plugin cuBLAS when one has already been registered\n",
      "2024-12-07 15:57:29.611697: I tensorflow/core/platform/cpu_feature_guard.cc:210] This TensorFlow binary is optimized to use available CPU instructions in performance-critical operations.\n",
      "To enable the following instructions: AVX2 FMA, in other operations, rebuild TensorFlow with the appropriate compiler flags.\n",
      "2024-12-07 15:57:32.345477: W tensorflow/compiler/tf2tensorrt/utils/py_utils.cc:38] TF-TRT Warning: Could not find TensorRT\n",
      "WARNING: All log messages before absl::InitializeLog() is called are written to STDERR\n",
      "I0000 00:00:1733567256.615841  206113 cuda_executor.cc:1015] successful NUMA node read from SysFS had negative value (-1), but there must be at least one NUMA node, so returning NUMA node zero. See more at https://github.com/torvalds/linux/blob/v6.0/Documentation/ABI/testing/sysfs-bus-pci#L344-L355\n",
      "2024-12-07 15:57:36.759302: W tensorflow/core/common_runtime/gpu/gpu_device.cc:2343] Cannot dlopen some GPU libraries. Please make sure the missing libraries mentioned above are installed properly if you would like to use GPU. Follow the guide at https://www.tensorflow.org/install/gpu for how to download and setup the required libraries for your platform.\n",
      "Skipping registering GPU devices...\n"
     ]
    },
    {
     "name": "stdout",
     "output_type": "stream",
     "text": [
      "Epoch 1/5\n"
     ]
    },
    {
     "name": "stderr",
     "output_type": "stream",
     "text": [
      "2024-12-07 15:57:37.719293: W external/local_tsl/tsl/framework/cpu_allocator_impl.cc:83] Allocation of 188160000 exceeds 10% of free system memory.\n"
     ]
    },
    {
     "name": "stdout",
     "output_type": "stream",
     "text": [
      "1875/1875 - 24s - 13ms/step - accuracy: 0.8350 - loss: 0.4508\n",
      "Epoch 2/5\n",
      "1875/1875 - 23s - 12ms/step - accuracy: 0.8906 - loss: 0.2979\n",
      "Epoch 3/5\n",
      "1875/1875 - 23s - 12ms/step - accuracy: 0.9061 - loss: 0.2534\n",
      "Epoch 4/5\n",
      "1875/1875 - 22s - 12ms/step - accuracy: 0.9165 - loss: 0.2236\n",
      "Epoch 5/5\n",
      "1875/1875 - 22s - 12ms/step - accuracy: 0.9277 - loss: 0.1955\n",
      "313/313 - 1s - 4ms/step - accuracy: 0.9081 - loss: 0.2603\n",
      "Test Accuracy: 0.9081\n"
     ]
    }
   ],
   "source": [
    "import tensorflow as tf\n",
    "from tensorflow.keras import layers, models, regularizers\n",
    "from tensorflow.keras.datasets import fashion_mnist\n",
    "\n",
    "(x_train, y_train), (x_test, y_test) = fashion_mnist.load_data()\n",
    "x_train, x_test = x_train / 255.0, x_test / 255.0\n",
    "x_train = x_train[..., None]  \n",
    "x_test = x_test[..., None]    \n",
    "\n",
    "y_train = tf.keras.utils.to_categorical(y_train, 10)\n",
    "y_test = tf.keras.utils.to_categorical(y_test, 10)\n",
    "\n",
    "# Build the CNN model\n",
    "model = models.Sequential([\n",
    "    layers.Input(shape=(28, 28, 1)),  # Input layer with image size 28x28 and 1 channel\n",
    "    layers.Conv2D(32, (3, 3), activation='relu'),  # First Conv layer\n",
    "    layers.MaxPooling2D(),  # Max pooling layer\n",
    "    layers.Conv2D(64, (3, 3), activation='relu'),  # Second Conv layer\n",
    "    layers.MaxPooling2D(),  # Max pooling layer\n",
    "    layers.Flatten(),  # Flatten the feature \n",
    "    layers.Dense(128, activation='relu'), # basic model , for regularizers uncomment the below line as per requirements\n",
    "    # layers.Dense(128, activation='relu', kernel_regularizer=regularizers.l1(1e-4)),\n",
    "    # layers.Dense(128, activation='relu', kernel_regularizer=regularizers.l2(1e-4)),\n",
    "    # layers.Dropout(0.5),\n",
    "    layers.Dense(10, activation='softmax')  # Output layer with 10 classes (Fashion MNIST)\n",
    "])\n",
    "model.compile(optimizer='adam',\n",
    "              loss='categorical_crossentropy',\n",
    "              metrics=['accuracy'])\n",
    "model.fit(x_train, y_train, epochs=5, batch_size=32, verbose=2)\n",
    "test_loss, test_acc = model.evaluate(x_test, y_test, verbose=2)\n",
    "\n",
    "print(f\"Test Accuracy: {test_acc:.4f}\")\n"
   ]
  },
  {
   "cell_type": "code",
   "execution_count": null,
   "id": "a42c1174-e27a-4cd0-9458-bdce358e7d4e",
   "metadata": {},
   "outputs": [],
   "source": []
  }
 ],
 "metadata": {
  "kernelspec": {
   "display_name": "Python 3 (ipykernel)",
   "language": "python",
   "name": "python3"
  },
  "language_info": {
   "codemirror_mode": {
    "name": "ipython",
    "version": 3
   },
   "file_extension": ".py",
   "mimetype": "text/x-python",
   "name": "python",
   "nbconvert_exporter": "python",
   "pygments_lexer": "ipython3",
   "version": "3.12.7"
  }
 },
 "nbformat": 4,
 "nbformat_minor": 5
}
